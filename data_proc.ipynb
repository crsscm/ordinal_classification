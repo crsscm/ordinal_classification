{
 "cells": [
  {
   "cell_type": "code",
   "execution_count": 1,
   "metadata": {
    "collapsed": false
   },
   "outputs": [
    {
     "name": "stdout",
     "output_type": "stream",
     "text": [
      "Load in...\n"
     ]
    }
   ],
   "source": [
    "import pandas as pd\n",
    "import numpy as np\n",
    "import matplotlib.pyplot as plt\n",
    "import os, sys\n",
    "from datetime import datetime\n",
    "\n",
    "print('Load in...')"
   ]
  },
  {
   "cell_type": "code",
   "execution_count": 2,
   "metadata": {
    "collapsed": false
   },
   "outputs": [
    {
     "name": "stdout",
     "output_type": "stream",
     "text": [
      "52267\n",
      "../../datasets/cloud/mode_2004/data_I2004.csv\n",
      "<class 'pandas.core.frame.DataFrame'>\n",
      "RangeIndex: 52265 entries, 0 to 52264\n",
      "Data columns (total 26 columns):\n",
      "num_id                    52265 non-null int64\n",
      "Scene_ID                  52265 non-null object\n",
      "K-J                       52265 non-null int64\n",
      "Date                      52265 non-null object\n",
      "Time                      52265 non-null object\n",
      "SPOT                      52265 non-null int64\n",
      "HRV                       52265 non-null int64\n",
      "Mode                      52265 non-null object\n",
      "Upper_Left_Latitude       52265 non-null object\n",
      "Upper_Left_Longitude      52265 non-null object\n",
      "Upper_Right_Latitude      52265 non-null object\n",
      "Upper_Right_Longitude     52265 non-null object\n",
      "Scene_Centre_Latitude     52265 non-null object\n",
      "Scene_Centre_Longitude    52265 non-null object\n",
      "Lower_Left_Latitude       52265 non-null object\n",
      "Lower_Left_Longitude      52265 non-null object\n",
      "Lower_Right_Latitude      52265 non-null object\n",
      "Lower_Right_Longitude     52265 non-null object\n",
      "Cloud_Cover               52265 non-null object\n",
      "Max                       52262 non-null object\n",
      "Avg                       52265 non-null object\n",
      "Snow_Cover                52265 non-null int64\n",
      "Scene_Orient              52265 non-null float64\n",
      "Incident_Angle            52265 non-null float64\n",
      "Sun_Azimuth               26182 non-null float64\n",
      "Sun_Elevation             52265 non-null float64\n",
      "dtypes: float64(4), int64(5), object(17)\n",
      "memory usage: 10.4+ MB\n",
      "None\n"
     ]
    }
   ],
   "source": [
    "BASEDIR = '../../datasets/cloud/mode_2004/'\n",
    "filenames = os.listdir(BASEDIR)\n",
    "print(len(filenames))\n",
    "csvname = os.path.join(BASEDIR, [it for it in filenames if '.csv' in it][0])\n",
    "print(csvname)\n",
    "df_train = pd.read_csv(csvname)\n",
    "print(df_train.info())"
   ]
  },
  {
   "cell_type": "code",
   "execution_count": 5,
   "metadata": {
    "collapsed": false
   },
   "outputs": [
    {
     "name": "stdout",
     "output_type": "stream",
     "text": [
      "<class 'pandas.core.frame.DataFrame'>\n",
      "RangeIndex: 52265 entries, 0 to 52264\n",
      "Data columns (total 27 columns):\n",
      "num_id                    52265 non-null int64\n",
      "Scene_ID                  52265 non-null object\n",
      "K-J                       52265 non-null int64\n",
      "Date                      52265 non-null object\n",
      "Time                      52265 non-null object\n",
      "SPOT                      52265 non-null int64\n",
      "HRV                       52265 non-null int64\n",
      "Mode                      52265 non-null object\n",
      "Upper_Left_Latitude       52265 non-null object\n",
      "Upper_Left_Longitude      52265 non-null object\n",
      "Upper_Right_Latitude      52265 non-null object\n",
      "Upper_Right_Longitude     52265 non-null object\n",
      "Scene_Centre_Latitude     52265 non-null object\n",
      "Scene_Centre_Longitude    52265 non-null object\n",
      "Lower_Left_Latitude       52265 non-null object\n",
      "Lower_Left_Longitude      52265 non-null object\n",
      "Lower_Right_Latitude      52265 non-null object\n",
      "Lower_Right_Longitude     52265 non-null object\n",
      "Cloud_Cover               52265 non-null object\n",
      "Max                       52262 non-null object\n",
      "Avg                       52265 non-null object\n",
      "Snow_Cover                52265 non-null int64\n",
      "Scene_Orient              52265 non-null float64\n",
      "Incident_Angle            52265 non-null float64\n",
      "Sun_Azimuth               26182 non-null float64\n",
      "Sun_Elevation             52265 non-null float64\n",
      "Train                     52265 non-null object\n",
      "dtypes: float64(4), int64(5), object(18)\n",
      "memory usage: 10.8+ MB\n",
      "None\n"
     ]
    }
   ],
   "source": [
    "import random\n",
    "\n",
    "def binary_sample(thresh=0.8):\n",
    "    return 'T' if random.uniform(0.0, 1.0) < thresh else 'F'\n",
    "    \n",
    "df_train['Train'] = df_train['num_id'].map(binary_sample)\n",
    "df_train.to_csv(csvname)\n",
    "print(df_train.info())"
   ]
  },
  {
   "cell_type": "code",
   "execution_count": 9,
   "metadata": {
    "collapsed": false
   },
   "outputs": [
    {
     "data": {
      "text/plain": [
       "numpy.int64"
      ]
     },
     "execution_count": 9,
     "metadata": {},
     "output_type": "execute_result"
    }
   ],
   "source": [
    "type(df_train['num_id'].count())"
   ]
  },
  {
   "cell_type": "code",
   "execution_count": null,
   "metadata": {
    "collapsed": true
   },
   "outputs": [],
   "source": []
  }
 ],
 "metadata": {
  "anaconda-cloud": {},
  "kernelspec": {
   "display_name": "Python [default]",
   "language": "python",
   "name": "python3"
  },
  "language_info": {
   "codemirror_mode": {
    "name": "ipython",
    "version": 3
   },
   "file_extension": ".py",
   "mimetype": "text/x-python",
   "name": "python",
   "nbconvert_exporter": "python",
   "pygments_lexer": "ipython3",
   "version": "3.5.2"
  }
 },
 "nbformat": 4,
 "nbformat_minor": 1
}
